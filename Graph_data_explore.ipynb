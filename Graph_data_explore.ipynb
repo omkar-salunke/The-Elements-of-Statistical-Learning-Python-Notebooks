{
  "nbformat": 4,
  "nbformat_minor": 0,
  "metadata": {
    "colab": {
      "provenance": [],
      "include_colab_link": true
    },
    "kernelspec": {
      "name": "python3",
      "display_name": "Python 3"
    },
    "language_info": {
      "name": "python"
    }
  },
  "cells": [
    {
      "cell_type": "markdown",
      "metadata": {
        "id": "view-in-github",
        "colab_type": "text"
      },
      "source": [
        "<a href=\"https://colab.research.google.com/github/omkar-salunke/The-Elements-of-Statistical-Learning-Python-Notebooks/blob/master/Graph_data_explore.ipynb\" target=\"_parent\"><img src=\"https://colab.research.google.com/assets/colab-badge.svg\" alt=\"Open In Colab\"/></a>"
      ]
    },
    {
      "cell_type": "code",
      "execution_count": null,
      "metadata": {
        "id": "s8mfQr3kkv9M"
      },
      "outputs": [],
      "source": [
        "import torch\n",
        "import torch.nn.functional as F\n",
        "from torch_geometric.nn import GATConv\n",
        "from torch_geometric.data import Data\n",
        "\n",
        "# 1. Define the Graph Data\n",
        "# Let's create a graph with 4 nodes and some edges (undirected)\n",
        "edge_index = torch.tensor([[0, 1, 1, 2, 2, 3],\n",
        "                           [1, 0, 2, 1, 3, 2]], dtype=torch.long)\n",
        "\n",
        "# Define initial node features (e.g., 3 features per node)\n",
        "x = torch.tensor([[1.0, 0.0, 0.0],  # Node 0\n",
        "                  [0.0, 1.0, 0.0],  # Node 1\n",
        "                  [0.0, 0.0, 1.0],  # Node 2\n",
        "                  [0.5, 0.5, 0.0]],  # Node 3\n",
        "                 dtype=torch.float)\n",
        "\n",
        "# Create a PyG Data object\n",
        "data = Data(x=x, edge_index=edge_index)\n",
        "print(\"Graph Data:\")\n",
        "print(data)\n",
        "print(\"\\nInitial Node Features (data.x):\\n\", data.x)\n",
        "print(\"\\nEdge Indices (data.edge_index):\\n\", data.edge_index)\n",
        "\n",
        "# 2. Define a Simple GAT Model\n",
        "class SimpleGAT(torch.nn.Module):\n",
        "    def __init__(self, in_channels, out_channels, heads=1):\n",
        "        super(SimpleGAT, self).__init__()\n",
        "        self.conv1 = GATConv(in_channels, out_channels, heads=heads)\n",
        "\n",
        "    def forward(self, data):\n",
        "        x, edge_index = data.x, data.edge_index\n",
        "        x = self.conv1(x, edge_index)\n",
        "        x = F.relu(x)  # Apply ReLU activation\n",
        "        return x\n",
        "\n",
        "# 3. Instantiate the Model\n",
        "# Input feature dimension = 3 (from our 'x' tensor)\n",
        "# Output feature dimension = 2 (we can choose this)\n",
        "# Number of attention heads = 2 (we can also choose this)\n",
        "input_dim = data.num_node_features\n",
        "output_dim = 2\n",
        "num_heads = 2\n",
        "model = SimpleGAT(in_channels=input_dim, out_channels=output_dim, heads=num_heads)\n",
        "print(\"\\nGAT Model:\\n\", model)\n",
        "\n",
        "# 4. Perform a Forward Pass\n",
        "with torch.no_grad():  # We don't need gradients for a simple forward pass\n",
        "    output = model(data)\n",
        "\n",
        "print(\"\\nOutput Node Embeddings after one GAT layer:\\n\", output)\n",
        "print(\"\\nShape of Output Embeddings:\", output.shape)"
      ]
    }
  ]
}